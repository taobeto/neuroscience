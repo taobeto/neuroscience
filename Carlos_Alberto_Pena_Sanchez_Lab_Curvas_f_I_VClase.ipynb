{
  "cells": [
    {
      "cell_type": "markdown",
      "metadata": {
        "id": "view-in-github",
        "colab_type": "text"
      },
      "source": [
        "<a href=\"https://colab.research.google.com/github/taobeto/neuroscience/blob/main/Carlos_Alberto_Pena_Sanchez_Lab_Curvas_f_I_VClase.ipynb\" target=\"_parent\"><img src=\"https://colab.research.google.com/assets/colab-badge.svg\" alt=\"Open In Colab\"/></a>"
      ]
    },
    {
      "cell_type": "markdown",
      "id": "a9ff0618",
      "metadata": {
        "id": "a9ff0618"
      },
      "source": [
        "# Modelo de Hodgkin y Huxley\n",
        "\n",
        "# Cálculo de Curvas f-I\n",
        "\n",
        "Este notebook tiene como objetivo calcular las curvas $ f-I $ (frecuencia-corriente), así como aprender a hacer análisis de tiempos de disparo.\n",
        "\n",
        "### Ejercicio 1:\n",
        "\n",
        "Construir la curva f-I del modelo de HH con los parámetros dados en la clase anterior. A qué tipo de clase de excitabilidad corresponde el modelo de HH con los parámetros estudiados?"
      ]
    },
    {
      "cell_type": "code",
      "execution_count": null,
      "id": "5d037635",
      "metadata": {
        "colab": {
          "base_uri": "https://localhost:8080/",
          "height": 430
        },
        "id": "5d037635",
        "outputId": "1c10e22a-75b4-4b24-ddbc-85972de0b5cb"
      },
      "outputs": [
        {
          "output_type": "display_data",
          "data": {
            "text/plain": [
              "<Figure size 640x480 with 1 Axes>"
            ],
            "image/png": "[encoded data removed]"
          },
          "metadata": {}
        }
      ],
      "source": [
        "import numpy as np\n",
        "from scipy.integrate import solve_ivp\n",
        "import matplotlib.pyplot as plt\n",
        "from scipy.signal import find_peaks\n",
        "\n",
        "\n",
        "def Iext(t, Iextesco):\n",
        "  if t >= 0 and t <= 300 :\n",
        "    Iext = Iextesco\n",
        "  else:\n",
        "    Iext = 0\n",
        "  return Iext\n",
        "\n",
        "\n",
        "def Hodgkin_Huxley(t, X, Iextesco, Cm, gna, gk, gl, Ena, Ek, El):\n",
        "\n",
        "  V = X[0]\n",
        "  n = X[1]\n",
        "  m = X[2]\n",
        "  h = X[3]\n",
        "\n",
        "\n",
        "  I_ext= Iext(t, Iextesco)\n",
        "\n",
        "  an = 0.01*(V+55)/(1-np.exp(-(V+55)/10))\n",
        "  bn = 0.125*np.exp(-(V+65)/80)\n",
        "  am = 0.1*(V+40)/(1-np.exp(-(V+40)/10))\n",
        "  bm = 4*np.exp(-(V+65)/18)\n",
        "  ah = 0.07*np.exp(-(V+65)/20)\n",
        "  bh = 1/(1+np.exp(-(V+35)/10))\n",
        "\n",
        "\n",
        "  ninf = an/(an+bn)\n",
        "  tn = 1/(an+bn)\n",
        "\n",
        "  minf = am/(am+bm)\n",
        "  tm = 1/(am+bm)\n",
        "\n",
        "  hinf = ah/(ah+bh)\n",
        "  th = 1/(ah+bh)\n",
        "\n",
        "  dndt = (ninf-n)/tn\n",
        "  dmdt = (minf-m)/tm\n",
        "  dhdt =(hinf-h)/th\n",
        "\n",
        "  Ina = gna*m**3*h*(V-Ena)\n",
        "  Ik = gk*n**4*(V-Ek)\n",
        "  Il = gl*(V-El)\n",
        "\n",
        "\n",
        "  dVdt = (I_ext -(Ina + Ik + Il))/Cm\n",
        "  return [dVdt, dndt, dmdt, dhdt]\n",
        "\n",
        "\n",
        "frecuencias = []\n",
        "Imedidas = []\n",
        "tspan = [0, 300]\n",
        "X0 = [-65,0.3365,0.05885,0.5519]\n",
        "for i in range(200):\n",
        "  Iextesco = 0.1*i\n",
        "  Iextesco,Cm,gna,gk,gl,Ena,Ek,El = Iextesco,1,120,36,0.3,50,-77,-50\n",
        "  solucion = solve_ivp(Hodgkin_Huxley, tspan, X0,\n",
        "                    args = (Iextesco,Cm,gna,gk,gl,Ena,Ek,El), dense_output = True, rtol =  10**-6)\n",
        "\n",
        "  tdenso = np.linspace(tspan[0], tspan[-1], 5000)\n",
        "  V, n, m, h = solucion.sol(tdenso)\n",
        "\n",
        "  peakID,_ = find_peaks(V,height=10)\n",
        "  tiempos_spike = tdenso[peakID]\n",
        "\n",
        "  tiempos_spike = tdenso[peakID]\n",
        "  valor_spike = V[peakID]\n",
        "  if len(valor_spike) < 2:\n",
        "    continue\n",
        "  else:\n",
        "    Imedidas.append(Iextesco)\n",
        "    intervalos_spike = np.diff(tiempos_spike)\n",
        "    periodo_spike = np.mean(intervalos_spike)*0.001\n",
        "    frecuencia_spike = 1/periodo_spike\n",
        "    frecuencias.append(frecuencia_spike)\n",
        "\n",
        "plt.plot(Imedidas, frecuencias)\n",
        "plt.show()\n",
        "\n",
        "\n"
      ]
    },
    {
      "cell_type": "markdown",
      "id": "abd8f2f2",
      "metadata": {
        "id": "abd8f2f2"
      },
      "source": [
        "### Ejercicio 2:\n",
        "\n",
        "A continuación se le presenta un experimento real de electorfisología en el que su colega biólogo ha hecho un experimento aplicando un protocolo de estimulación a una neurona, consistente en varios valores de corriente constante. Su colega le solicita que le indique si la neurona que ha registrado es de tipo I o tipo II.\n",
        "\n",
        "Realice el análisis para determinarlo. Para ello\n",
        "\n",
        "1. Compute la curva $f - I$ de esta neurona\n",
        "2. Muestre dos curvas representativas mostrando cómo es la traza de tiempo del voltaje para una corriente subumbral y una supraumbral.\n"
      ]
    },
    {
      "cell_type": "markdown",
      "id": "41092743",
      "metadata": {
        "id": "41092743"
      },
      "source": [
        "El dipsoitivo que se usa para hacer registros electrofisiológicos almacena los datos en formato *abf*, para poder leer los datos ejecute el siguiente *snippet*"
      ]
    },
    {
      "cell_type": "code",
      "execution_count": null,
      "id": "25a17ab6",
      "metadata": {
        "id": "25a17ab6",
        "outputId": "4b305924-18a8-435d-ce63-22f1260a0a3e"
      },
      "outputs": [
        {
          "name": "stdout",
          "output_type": "stream",
          "text": [
            "ABF (v2.6) with 2 channels (mV, pA), sampled at 10.0 kHz, containing 13 sweeps, having no tags, with a total length of 0.65 minutes, recorded with protocol \"CC_20pA_100_340pA_500ms\".\n"
          ]
        }
      ],
      "source": [
        "!pip install pyabf\n",
        "import pyabf\n",
        "abf = pyabf.ABF('SpikesAndBursts_PFC_Pvalb_APs_01.abf')\n",
        "print(abf)"
      ]
    },
    {
      "cell_type": "markdown",
      "id": "81a5429e",
      "metadata": {
        "id": "81a5429e"
      },
      "source": [
        "Como puede notar el objeto abf importado contiene información sobre 2 canales. Uno mide el potencial de membrana, mientras el otro registra la corriente aplicada, ambas en función del tiempo, con una frecuencia de muestreo de 10kHz. El experimento consiste en 13 *sweeps* o protocolos diferentes. Para acceder a la información del *sweep* i-ésimo, deberá llamar el método\n",
        "\n",
        "abf.setSweep(i)\n",
        "\n",
        "Una vez establecido el sweep que desea analizar la información requerida la encontrará en los siguiente atributos:\n",
        "\n",
        "- tiempo -> abf.sweepX\n",
        "- voltaje -> abf.sweepY\n",
        "- corriente -> abf.sweepC"
      ]
    },
    {
      "cell_type": "code",
      "execution_count": null,
      "id": "d5aeebcc",
      "metadata": {
        "id": "d5aeebcc"
      },
      "outputs": [],
      "source": [
        "# TODO"
      ]
    }
  ],
  "metadata": {
    "kernelspec": {
      "display_name": "Python 3 (ipykernel)",
      "language": "python",
      "name": "python3"
    },
    "language_info": {
      "codemirror_mode": {
        "name": "ipython",
        "version": 3
      },
      "file_extension": ".py",
      "mimetype": "text/x-python",
      "name": "python",
      "nbconvert_exporter": "python",
      "pygments_lexer": "ipython3",
      "version": "3.10.12"
    },
    "colab": {
      "provenance": [],
      "include_colab_link": true
    }
  },
  "nbformat": 4,
  "nbformat_minor": 5
}