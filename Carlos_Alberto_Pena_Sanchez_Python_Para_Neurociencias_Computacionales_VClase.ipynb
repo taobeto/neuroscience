{
  "cells": [
    {
      "cell_type": "markdown",
      "metadata": {
        "id": "view-in-github",
        "colab_type": "text"
      },
      "source": [
        "<a href=\"https://colab.research.google.com/github/taobeto/neuroscience/blob/main/Carlos_Alberto_Pena_Sanchez_Python_Para_Neurociencias_Computacionales_VClase.ipynb\" target=\"_parent\"><img src=\"https://colab.research.google.com/assets/colab-badge.svg\" alt=\"Open In Colab\"/></a>"
      ]
    },
    {
      "cell_type": "markdown",
      "id": "6d6a76d1",
      "metadata": {
        "id": "6d6a76d1"
      },
      "source": [
        "# Neurociencias Computacionales\n",
        "\n",
        "## Presentación del curso\n",
        "\n",
        "En el mundo actual, donde la tecnología avanza a pasos agigantados, comprender y modelar el cerebro humano se ha convertido en una necesidad crítica en el campo de las ciencias de la computación. El cerebro humano es el órgano más complejo conocido, y su capacidad para procesar información y aprender de manera adaptativa es la inspiración fundamental para la inteligencia artificial y la computación neuromórfica. Al aprender a modelar el cerebro, los estudiantes se embarcan en un viaje fascinante que no solo les permitirá avanzar en el desarrollo de las herramientas matemáticas para modelar sistemas cmplejos sino también entender la brecha entre los sistemas de inteligencia artificial y su contraparte biológica.\n",
        "\n",
        "El curso se impartirá en su totalidad en salas computacionales. Cada sesión está organizanda en scripts de Jupyter / Google Collab con una fundamentación teórica y la implementación práctica del tema propuesto que pasa por la simulación de una neurona, pasando por modelos de redes neuronales y finalmente modelado de masas neuronales.\n",
        "\n",
        "## Syllabus\n",
        "\n",
        "- Semana 1: Presentación del curso, motivación.\n",
        "    * Laboratorio: Python para computación cienctífica\n",
        "- Semana 2: Electrofisiología de la neurona, modelo de Hodgkin y Huxley.\n",
        "    * Laboratorio: Simulación del modelo HH\n",
        "- Semana 3: Neuronas tipo I y II, Sinapsis, Modelos Compartimentales, Ecuación del Cable.\n",
        "    * Laboratorio: Análisis de whole cell clamp\n",
        "- Semana 4: Modelos reducidos: Fitzhugh Nagumo, Morris Lecar y Análisis del Plano de Fase.\n",
        "    * Laboratorio: Sistemas Planares\n",
        "- Semana 5: **Parcial**\n",
        "- Semana 6: Modelos Integrate-and-Fire (LIF, QIF, EIF).\n",
        "    * Laboratorio: Comparación de modelos IF\n",
        "- Semana 7: Mecanismos de adaptación. Ruido Neuronal.\n",
        "    * Laboratorio: Ecuaciones diferenciales Estocásticas\n",
        "- Semana 8:  Elementos de redes complejas, redes neuronales, conexiones sinápticas\n",
        "    * Laboratorio: Redes complejas y simulación de redes\n",
        "- Semana 9: Análisis de datos en neurociencias\n",
        "    * Laboratorio: Análisis de EEG\n",
        "- Semana 10: **Entrega #1 de Proyecto**\n",
        "- Semana 11: Modelos de actividad mesoscópica. Modelos de Wilson Cowan, Montbrió, etc..\n",
        "    * Laboratorio: Redes de redes.\n",
        "- Semana 12: Campos neuronales, sistemas espacialmente extendidos\n",
        "    * Laboratorio: Somatotopia auditiva\n",
        "- Semana 13: Modelos de Cognición I\n",
        "    * Laboratorio: Campos receptivos\n",
        "- Semana 14: Modelos de Cognición II:\n",
        "    * Laboratorio: Toma de decisiones\n",
        "- Semana 15: **Entrega #2 de Proyecto**\n",
        "\n",
        "## Evaluación:\n",
        "\n",
        " - 40% Laboratorio\n",
        " - 40% Proyecto\n",
        " - 20% Parcial\n",
        "\n",
        "## Política de Entregas:\n",
        "\n",
        "Toda entrega debe ser entregada en la fecha indicada a través de la pltaforma Classroom. La mayoría de tareas tiene asociada una rúbrica que será usada para evaluar el trabajo. Toda entrega tardía será evaluada con una menor puntuación, así:\n",
        "\n",
        "- Hasta 1 día de retraso: Calficación sobre 3.5 (Esto icluye retrasos desde 1 minuto)\n",
        "- Hasta 2 días de retraso: Calificación sobre 3.0\n",
        "- Más de 2 días de retraso: Calificación de 0.0\n",
        "\n",
        "## Bibliografía:\n",
        "\n",
        "- Gerstner, W., Kistler, W. M., Naud, R., & Paninski, L. (2014). Neuronal dynamics: From single neurons to networks and models of cognition. Cambridge University Press.\n",
        "\n",
        "- Dayan, P., & Abbott, L. F. (2005). Theoretical neuroscience: computational and mathematical modeling of neural systems. MIT press.\n",
        "\n",
        "- Izhikevich, E. M. (2007). Dynamical systems in neuroscience. MIT press.\n"
      ]
    },
    {
      "cell_type": "markdown",
      "id": "6e1edb2a",
      "metadata": {
        "id": "6e1edb2a"
      },
      "source": [
        "# Herramientas Básicas\n",
        "\n",
        "En este curso es estricatamente necesario saber\n",
        "\n",
        "1. Saber manipular arreglos numéricos\n",
        "2. Usar herramientas estadísticas básicas\n",
        "3. Usar métodos numéricos para resolver ecuaciones diferenciales\n",
        "4. Mostrar gráficamente las soluciones\n",
        "5. Postprocesar los resultados"
      ]
    },
    {
      "cell_type": "markdown",
      "id": "db79ea07",
      "metadata": {
        "id": "db79ea07"
      },
      "source": [
        "## Manipulación de arreglos numéricos\n",
        "\n",
        "Si ha usado python es posible que esté habituado a organizar arreglos de variables en listas. Si bien son estructuras útiles para propósitos generales, no son ideales para la cálculo numérico."
      ]
    },
    {
      "cell_type": "code",
      "execution_count": null,
      "id": "73762b67",
      "metadata": {
        "id": "73762b67",
        "colab": {
          "base_uri": "https://localhost:8080/"
        },
        "outputId": "d538b72c-830a-4932-cbd1-ee6ffd1f8c2a"
      },
      "outputs": [
        {
          "output_type": "stream",
          "name": "stdout",
          "text": [
            "[1, 2, 3, 1, 2, 3, 1, 2, 3]\n"
          ]
        }
      ],
      "source": [
        "# Inisializemos un vector\n",
        "x = [1,2,3]\n",
        "y = 3*x\n",
        "print(y)"
      ]
    },
    {
      "cell_type": "code",
      "source": [
        "# TODO\n",
        "#list comprehesion, evitar su uso, es ineficiente\n",
        "y = [3*i for i in x]\n",
        "print(y)"
      ],
      "metadata": {
        "colab": {
          "base_uri": "https://localhost:8080/"
        },
        "id": "GwDLq-Ti2L52",
        "outputId": "59b0d3f5-e32e-499c-e919-9f99ecb41370"
      },
      "id": "GwDLq-Ti2L52",
      "execution_count": null,
      "outputs": [
        {
          "output_type": "stream",
          "name": "stdout",
          "text": [
            "[3, 6, 9]\n"
          ]
        }
      ]
    },
    {
      "cell_type": "code",
      "source": [
        "y = list(map(lambda i : 3*i, x))\n",
        "print(y)"
      ],
      "metadata": {
        "colab": {
          "base_uri": "https://localhost:8080/"
        },
        "id": "kRJzFP2j2QmK",
        "outputId": "c645cf66-8240-445d-ae70-fb33c60cf998"
      },
      "id": "kRJzFP2j2QmK",
      "execution_count": null,
      "outputs": [
        {
          "output_type": "stream",
          "name": "stdout",
          "text": [
            "[3, 6, 9]\n"
          ]
        }
      ]
    },
    {
      "cell_type": "code",
      "source": [
        "# Uso de Numpy\n",
        "import numpy as np\n",
        "x = np.array ([1, 2, 3])\n",
        "y = 3*x\n",
        "print(y)\n",
        "# es un arreglo más optimizado e inmediato"
      ],
      "metadata": {
        "colab": {
          "base_uri": "https://localhost:8080/"
        },
        "id": "k0I32p0B2k_6",
        "outputId": "5d6b7ddf-9a98-4adc-b99e-2129d77207e1"
      },
      "id": "k0I32p0B2k_6",
      "execution_count": null,
      "outputs": [
        {
          "output_type": "stream",
          "name": "stdout",
          "text": [
            "[3 6 9]\n"
          ]
        }
      ]
    },
    {
      "cell_type": "markdown",
      "source": [
        "## Manipulación de matrices"
      ],
      "metadata": {
        "id": "JkBaNsbp3Y7B"
      },
      "id": "JkBaNsbp3Y7B"
    },
    {
      "cell_type": "code",
      "source": [
        "X = np.array([[1,2,3],[-5,-8,8],[3,0,1]])\n",
        "Y = np.array([[-2,0,1],[-1,-1,0],[0,1,2]])\n",
        "print('matriz 1: \\n', x)\n",
        "print('matriz 2: \\n', y)"
      ],
      "metadata": {
        "colab": {
          "base_uri": "https://localhost:8080/"
        },
        "id": "Ktd__YZG3f8N",
        "outputId": "20c2c5ee-d236-466e-951e-e21b95c26a67"
      },
      "id": "Ktd__YZG3f8N",
      "execution_count": null,
      "outputs": [
        {
          "output_type": "stream",
          "name": "stdout",
          "text": [
            "matriz 1: \n",
            " [[ 1  2  3]\n",
            " [-5 -8  8]\n",
            " [ 3  0  1]]\n",
            "matriz 2: \n",
            " [[-2  0  1]\n",
            " [-1 -1  0]\n",
            " [ 0  1  2]]\n"
          ]
        }
      ]
    },
    {
      "cell_type": "code",
      "source": [
        "# Operaciones con matrices\n",
        "Z = X*3\n",
        "print('Multiplicación de Por un escalar: \\n',Z)"
      ],
      "metadata": {
        "colab": {
          "base_uri": "https://localhost:8080/"
        },
        "id": "adaYOcVq4clG",
        "outputId": "ea9d92fb-db7e-456d-9ff8-66682a2fdde5"
      },
      "id": "adaYOcVq4clG",
      "execution_count": null,
      "outputs": [
        {
          "output_type": "stream",
          "name": "stdout",
          "text": [
            "Multiplicación de Por un escalar: \n",
            " [[  3   6   9]\n",
            " [-15 -24  24]\n",
            " [  9   0   3]]\n"
          ]
        }
      ]
    },
    {
      "cell_type": "code",
      "source": [
        "# Multiplicacion matricial elemanto a elemeno\n",
        "Z = X*Y\n",
        "print('Multiplicación de Hamadamard: \\n',Z)"
      ],
      "metadata": {
        "colab": {
          "base_uri": "https://localhost:8080/"
        },
        "id": "GGdFd8TJ4v29",
        "outputId": "63bfa9da-1372-4c89-e83a-a970fb7f1266"
      },
      "id": "GGdFd8TJ4v29",
      "execution_count": null,
      "outputs": [
        {
          "output_type": "stream",
          "name": "stdout",
          "text": [
            "Multiplicación de Hamadamard: \n",
            " [[-2  0  3]\n",
            " [ 5  8  0]\n",
            " [ 0  0  2]]\n"
          ]
        }
      ]
    },
    {
      "cell_type": "code",
      "source": [
        "# Multiplicación matricial real\n",
        "Z = X @ Y\n",
        "print('Multiplicación de Real: \\n',Z)"
      ],
      "metadata": {
        "colab": {
          "base_uri": "https://localhost:8080/"
        },
        "id": "wZyonJrT5ArO",
        "outputId": "3f839d1a-ff0d-40f8-eb68-675dcd4f7db6"
      },
      "id": "wZyonJrT5ArO",
      "execution_count": null,
      "outputs": [
        {
          "output_type": "stream",
          "name": "stdout",
          "text": [
            "Multiplicación de Real: \n",
            " [[-4  1  7]\n",
            " [18 16 11]\n",
            " [-6  1  5]]\n"
          ]
        }
      ]
    },
    {
      "cell_type": "code",
      "source": [
        "#Función dot\n",
        "Z = np.dot(X,Y)\n",
        "print('Multiplicación por función dot: \\n',Z)\n",
        "# Realiza multiplicación vectoriales para dos matrices.\n",
        "#producto punto pra dos vectores 1D\n",
        "# Multiplicación estandar par una matriz y un vector\n"
      ],
      "metadata": {
        "colab": {
          "base_uri": "https://localhost:8080/"
        },
        "id": "zPx8hWvO539v",
        "outputId": "c7d34521-e833-4b10-d54c-c8782877be79"
      },
      "id": "zPx8hWvO539v",
      "execution_count": null,
      "outputs": [
        {
          "output_type": "stream",
          "name": "stdout",
          "text": [
            "Multiplicación por función dot: \n",
            " [[-4  1  7]\n",
            " [18 16 11]\n",
            " [-6  1  5]]\n"
          ]
        }
      ]
    },
    {
      "cell_type": "code",
      "source": [
        "#otra forma de función dot\n",
        "Z = np.matmul(X,Y)\n",
        "print(Z)\n",
        "# Apropiado para tensores de más de 2D y no realiza producto punto para vectores de 1D"
      ],
      "metadata": {
        "colab": {
          "base_uri": "https://localhost:8080/"
        },
        "id": "_15HKVoc6YqV",
        "outputId": "b81a8493-428c-4864-b64b-7d58613d37d2"
      },
      "id": "_15HKVoc6YqV",
      "execution_count": null,
      "outputs": [
        {
          "output_type": "stream",
          "name": "stdout",
          "text": [
            "[[-4  1  7]\n",
            " [18 16 11]\n",
            " [-6  1  5]]\n"
          ]
        }
      ]
    },
    {
      "cell_type": "code",
      "source": [
        "#Aplicación de funciones sobre todos los elementos de la matriz\n",
        "Z = np.tanh(X)\n",
        "print('Tanh para todos los componentes de X:\\n', Z)"
      ],
      "metadata": {
        "colab": {
          "base_uri": "https://localhost:8080/"
        },
        "id": "CZSAV9ue788Q",
        "outputId": "cd73015a-7679-4adb-a079-7fa1b3d25309"
      },
      "id": "CZSAV9ue788Q",
      "execution_count": null,
      "outputs": [
        {
          "output_type": "stream",
          "name": "stdout",
          "text": [
            "Tanh para todos los componentes de X:\n",
            " [[ 0.76159416  0.96402758  0.99505475]\n",
            " [-0.9999092  -0.99999977  0.99999977]\n",
            " [ 0.99505475  0.          0.76159416]]\n"
          ]
        }
      ]
    },
    {
      "cell_type": "markdown",
      "source": [
        "### Indexación en numpy"
      ],
      "metadata": {
        "id": "ORwwZH2b8eNj"
      },
      "id": "ORwwZH2b8eNj"
    },
    {
      "cell_type": "code",
      "source": [
        "# Acceder a un elemento en particular\n",
        "print('indexacion clasica x[1][1]: ', X[1][1])\n",
        "print('Para un elemento en particular con numpy X[1,1]: ', X[1,1])\n",
        "print('Para una fila X[1,:]: ',X[1,:])\n",
        "print('Para una fila con columnas concretas X[1,1:3]: ', X[1,1:3])"
      ],
      "metadata": {
        "colab": {
          "base_uri": "https://localhost:8080/"
        },
        "id": "8VUoSHie8iVj",
        "outputId": "81103af0-757a-4671-b425-0898caef8a8e"
      },
      "id": "8VUoSHie8iVj",
      "execution_count": null,
      "outputs": [
        {
          "output_type": "stream",
          "name": "stdout",
          "text": [
            "indexacion clasica x[1][1]:  -8\n",
            "Para un elemento en particular con numpy X[1,1]:  -8\n",
            "Para una fila X[1,:]:  [-5 -8  8]\n",
            "Para una fila con columnas concretas X[1,1:3]:  [-8  8]\n"
          ]
        }
      ]
    },
    {
      "cell_type": "markdown",
      "source": [
        "### Algebra lineal"
      ],
      "metadata": {
        "id": "rWJAIQd1-_DQ"
      },
      "id": "rWJAIQd1-_DQ"
    },
    {
      "cell_type": "code",
      "source": [
        "# Autovalor\n",
        "autovalores = np.linalg.eigvals(X)\n",
        "print('**autovalores: ', autovalores)\n",
        "#Inversa de una matriz\n",
        "Xinv = np.linalg.inv(X)\n",
        "print(\"matriz inversa: \\n\",xinv)\n",
        "print('matriz identidad X*Xinv: \\n', X@Xinv)"
      ],
      "metadata": {
        "colab": {
          "base_uri": "https://localhost:8080/"
        },
        "id": "CIEGoR-t_B2Y",
        "outputId": "405a8672-ea9a-4b8d-e8ce-ad675c2ce06a"
      },
      "id": "CIEGoR-t_B2Y",
      "execution_count": null,
      "outputs": [
        {
          "output_type": "stream",
          "name": "stdout",
          "text": [
            "**autovalores:  [-5.10487144+1.70899968j -5.10487144-1.70899968j  4.20974287+0.j        ]\n",
            "matriz inversa: \n",
            " [[-0.06557377 -0.01639344  0.32786885]\n",
            " [ 0.23770492 -0.06557377 -0.18852459]\n",
            " [ 0.19672131  0.04918033  0.01639344]]\n",
            "matriz identidad X*Xinv: \n",
            " [[ 1.00000000e+00 -2.08166817e-17 -2.77555756e-17]\n",
            " [ 0.00000000e+00  1.00000000e+00  0.00000000e+00]\n",
            " [-1.38777878e-16  7.63278329e-17  1.00000000e+00]]\n"
          ]
        }
      ]
    },
    {
      "cell_type": "markdown",
      "id": "2fc2baa0",
      "metadata": {
        "id": "2fc2baa0"
      },
      "source": [
        "## Herramientas estadísticas básicas"
      ]
    },
    {
      "cell_type": "code",
      "execution_count": null,
      "id": "6a907415",
      "metadata": {
        "id": "6a907415",
        "colab": {
          "base_uri": "https://localhost:8080/",
          "height": 447
        },
        "outputId": "a3a72293-5fe9-444f-c0f3-7382802fc1fc"
      },
      "outputs": [
        {
          "output_type": "stream",
          "name": "stdout",
          "text": [
            "[0.30892879 0.17098826 0.76503704 ... 0.28953677 0.72618635 0.53509386]\n"
          ]
        },
        {
          "output_type": "display_data",
          "data": {
            "text/plain": [
              "<Figure size 640x480 with 1 Axes>"
            ],
            "image/png": "[encoded data removed]"
          },
          "metadata": {}
        }
      ],
      "source": [
        "import matplotlib.pyplot as plt #Librería para graficar\n",
        "# Números aleatoreos con distribución uniforme entre 0 y 1\n",
        "r = np.random.rand(100000)\n",
        "print(r)\n",
        "plt.hist(r,100)\n",
        "plt.show()\n",
        "r.shape"
      ]
    },
    {
      "cell_type": "code",
      "source": [
        "# Numeros aleatorios entre 0 y 1 con distribución normal\n",
        "r = np.random.randn(1000000)\n",
        "plt.hist(r, bins = 10000)\n",
        "plt.grid()\n",
        "plt.show()"
      ],
      "metadata": {
        "colab": {
          "base_uri": "https://localhost:8080/",
          "height": 430
        },
        "id": "N0LR-gtJBqEI",
        "outputId": "41910362-804e-4f64-f889-52b7c334caea"
      },
      "id": "N0LR-gtJBqEI",
      "execution_count": null,
      "outputs": [
        {
          "output_type": "display_data",
          "data": {
            "text/plain": [
              "<Figure size 640x480 with 1 Axes>"
            ],
            "image/png": "[encoded data removed]"
          },
          "metadata": {}
        }
      ]
    },
    {
      "cell_type": "code",
      "source": [
        "print('Promedio: ', np.mean(r))\n",
        "print('desviación estandar: ', np.std(r))\n",
        "print('Varianza típica del arreglo r: ',np.var(r))\n",
        "print('Valor máximo: ', np.max(r))\n",
        "print('Valor mínimo: ', np.min(r))"
      ],
      "metadata": {
        "colab": {
          "base_uri": "https://localhost:8080/"
        },
        "id": "QqByZ9dtDI0t",
        "outputId": "6668d2d3-9dfb-40df-97c3-da7a6a8ce6cd"
      },
      "id": "QqByZ9dtDI0t",
      "execution_count": null,
      "outputs": [
        {
          "output_type": "stream",
          "name": "stdout",
          "text": [
            "Promedio:  0.0011541657611151858\n",
            "desviación estandar:  1.0002301379878134\n",
            "Varianza típica del arreglo r:  1.00046032893912\n",
            "Valor máximo:  4.9855180490452495\n",
            "Valor mínimo:  -4.83791696798155\n"
          ]
        }
      ]
    },
    {
      "cell_type": "markdown",
      "id": "c5311844",
      "metadata": {
        "id": "c5311844"
      },
      "source": [
        "## Resolver ecuaciones diferenciales\n",
        "\n",
        "Las Ecuaciones Diferenciales Ordinarias (EDO), son aquellas en las que hay una úncia variable de integración (variable independiente).\n",
        "\n",
        "Empecemos con un ejemplo más sencillo de la forma\n",
        "\n",
        "$$\n",
        "\\frac{dx}{dt}=f(x,t)\n",
        "$$\n",
        "\n",
        "La idea es calcular la función $x(t)$ que cumple la ecuación diferencial arriba especificada. Para poder calcular la solución $x(t)$ de la ecuación anterior es necesario especificar una condición inicial (IVP), es decir, debemos conocer el valor de $x$ en un cierto instante, por ejemplo en $t=0$.\n",
        "\n",
        "Veamos algunos métodos de solución numérica de EDO (integración).\n"
      ]
    },
    {
      "cell_type": "markdown",
      "id": "9cc7b32b",
      "metadata": {
        "id": "9cc7b32b"
      },
      "source": [
        "### Método de Euler\n",
        "\n",
        "La expansión en series de Taylor de la función $x(t+h)$, es decir nuestra función en un valor de $t$ conocido $x(t)$ más un intervalo pequeño $h$ es\n",
        "\n",
        "$$\n",
        "x(t+h)=x(t)+h\\frac{dx}{dt}+\\frac{1}{2}h^2 \\frac{d^2x}{dt^2}+...\n",
        "$$\n",
        "\n",
        "$$\n",
        "x(t+h)=x(t) + h f(x,t) + O(h^2)\n",
        "$$\n",
        "\n",
        "Nótese que para $h$ pequeño, los términos $h^2$ y de orden superior son negligibles. Este es el fundamento del método de Euler para EDO. La representación gráfica del método de Euler es la siguiente:\n",
        "\n",
        "![Metodo_Euler.png](attachment:Metodo_Euler.png)"
      ]
    },
    {
      "cell_type": "markdown",
      "id": "c71adc55",
      "metadata": {
        "id": "c71adc55"
      },
      "source": [
        "En caso de que tengamos varias ecuaciones diferenciales acopladas, podemos representar\n",
        "la ecuación diferencial como:\n",
        "\n",
        "$$\n",
        "\\frac{d\\mathbf{x}}{dt}=\\mathbf{f}(\\mathbf{x},t)\n",
        "$$\n",
        "\n",
        "ahora $\\mathbf{x} = (x_1(t),x_2(t),...,x_n(t))$ y $\\mathbf{f}(\\mathbf{x},t) = (f_1(\\mathbf{x},t),f_2(\\mathbf{x},t),...,f_n(\\mathbf{x},t))$ y la aplicación del método de Euler es igual al caso de una sola EDO, i.e:\n",
        "\n",
        "$$\n",
        "\\mathbf{x}(t+h)=\\mathbf{x}(t)+h\\frac{d\\mathbf{x}}{dt}+\\frac{1}{2}h^2 \\frac{d^2\\mathbf{x}}{dt^2}+...\n",
        "$$\n",
        "\n",
        "$$\n",
        "\\mathbf{x}(t+h)=\\mathbf{x}(t) + h \\mathbf{f}(\\mathbf{x},t) + O(h^2)\n",
        "$$"
      ]
    },
    {
      "cell_type": "markdown",
      "id": "ab413d7b",
      "metadata": {
        "id": "ab413d7b"
      },
      "source": [
        "Considere el sistema de ecuaciones\n",
        "\n",
        "$$\n",
        "\\frac{dV}{dt} = V-V^3 -w + I \\\\\n",
        "\\frac{dw}{dt} = \\frac{1}{\\tau}(V+a-bw)\n",
        "$$\n",
        "\n",
        "Asuma que $I = 1$, $a = 0.7$, $b = 0.8$, $\\tau = 12.5$. Simule el sistema de ecuaciones durante 200 unidades de tiempo, sujeto a $(V(0),w(0)) = (0,0)$"
      ]
    },
    {
      "cell_type": "code",
      "execution_count": null,
      "id": "f00e1b00",
      "metadata": {
        "id": "f00e1b00"
      },
      "outputs": [],
      "source": [
        "# TODO\n",
        "# Primera aproximación (ingenua)\n"
      ]
    },
    {
      "cell_type": "markdown",
      "id": "a65178e6",
      "metadata": {
        "id": "a65178e6"
      },
      "source": [
        "Usemos una método más eficiente:"
      ]
    },
    {
      "cell_type": "code",
      "execution_count": null,
      "id": "95475659",
      "metadata": {
        "id": "95475659"
      },
      "outputs": [],
      "source": [
        "# TODO"
      ]
    },
    {
      "cell_type": "markdown",
      "id": "20eb44a3",
      "metadata": {
        "id": "20eb44a3"
      },
      "source": [
        "## Postprocesar resultados\n",
        "\n",
        "En nuestro periplo por las neurociencias computacoinales veremos la importancia de identificar los momentos en los que la variable que describe el comportamiento de una neurona tiene picos, llamados *spikes* o potenciales de acción. Veamos cómo identificar picos"
      ]
    },
    {
      "cell_type": "code",
      "execution_count": null,
      "id": "6fce0c47",
      "metadata": {
        "id": "6fce0c47"
      },
      "outputs": [],
      "source": [
        "# TODO"
      ]
    }
  ],
  "metadata": {
    "kernelspec": {
      "display_name": "Python 3 (ipykernel)",
      "language": "python",
      "name": "python3"
    },
    "language_info": {
      "codemirror_mode": {
        "name": "ipython",
        "version": 3
      },
      "file_extension": ".py",
      "mimetype": "text/x-python",
      "name": "python",
      "nbconvert_exporter": "python",
      "pygments_lexer": "ipython3",
      "version": "3.10.12"
    },
    "colab": {
      "provenance": [],
      "collapsed_sections": [
        "db79ea07"
      ],
      "include_colab_link": true
    }
  },
  "nbformat": 4,
  "nbformat_minor": 5
}