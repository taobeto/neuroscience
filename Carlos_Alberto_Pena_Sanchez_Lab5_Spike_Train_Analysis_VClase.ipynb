{
  "cells": [
    {
      "cell_type": "markdown",
      "metadata": {
        "id": "view-in-github",
        "colab_type": "text"
      },
      "source": [
        "<a href=\"https://colab.research.google.com/github/taobeto/neuroscience/blob/main/Carlos_Alberto_Pena_Sanchez_Lab5_Spike_Train_Analysis_VClase.ipynb\" target=\"_parent\"><img src=\"https://colab.research.google.com/assets/colab-badge.svg\" alt=\"Open In Colab\"/></a>"
      ]
    },
    {
      "cell_type": "markdown",
      "id": "684341a1",
      "metadata": {
        "id": "684341a1"
      },
      "source": [
        "# Lab 4: Análisis Estadístico de Trenes de Spike"
      ]
    },
    {
      "cell_type": "markdown",
      "id": "ebf2ae6c",
      "metadata": {
        "id": "ebf2ae6c"
      },
      "source": [
        "## Introducción\n",
        "\n",
        "Las neuronas de la retina suelen responder a patrones de luz que se muestran en pequeñas secciones del campo visual. Sin embargo, cuando las neuronas de la retina se cultivan y se mantienen bajo condiciones ambientales y de luz constantes, seguirán disparando espontáneamente potenciales de acción. En una retina en pleno funcionamiento, esta actividad espontánea a veces se describe como actividad de fondo, que se modula en función de los estímulos visuales. Es útil comprender las propiedades de esta actividad de fondo para determinar en experimentos futuros cómo estas propiedades de activación se ven afectadas por estímulos específicos."
      ]
    },
    {
      "cell_type": "markdown",
      "id": "b2642b86",
      "metadata": {
        "id": "b2642b86"
      },
      "source": [
        "## Caso de Estudio\n",
        "\n",
        "Una investigadora que examina las propiedades de actividad de fondo de una de estas neuronas se comunica con usted para discutir sus datos. Su colaboradora ha registrado los potenciales de acción en dos condiciones experimentales: con las luces de la habitación apagadas (niveles bajos de luz ambiental) o con las luces encendidas (niveles altos de luz ambiental). A ella le gustaría colaborar con usted para determinar si existe una diferencia en el disparo de fondo entre estas dos condiciones. El registro de actividad neuronala se ha hecho durante 30 segundos en cada condición."
      ]
    },
    {
      "cell_type": "markdown",
      "id": "07a0dedf",
      "metadata": {
        "id": "07a0dedf"
      },
      "source": [
        "## Ejercicio 1\n",
        "\n",
        "Cargue los datos en python para su procesamiento. Para ello use el módulo scipy.io la función loadmat.\n",
        "\n",
        "Debería encontrar dos variables en el diccionario de datos:\n",
        "\n",
        "*SpikesLow*: tiempos de disparo durante 30 s en condiciones de poca luz,\n",
        "\n",
        "*SpikesHigh*: tiempos de disparo durante 30 s en condiciones de luz alta.\n",
        "\n",
        "**Q:** Cuál es el firing rate promedio en de la neurona en condiciones de luz baja y de luz ambiental?"
      ]
    },
    {
      "cell_type": "code",
      "execution_count": null,
      "id": "b797b2d8",
      "metadata": {
        "id": "b797b2d8"
      },
      "outputs": [],
      "source": [
        "# TODO"
      ]
    },
    {
      "cell_type": "markdown",
      "id": "30c5e20d",
      "metadata": {
        "id": "30c5e20d"
      },
      "source": [
        "## Ejercicio 2\n",
        "\n",
        "Habrá notado que en nuestro experimento se nos da simplemente los tiempos de disparo. Para visualizar los tiempos de disparo se suele representar a través de un raster-plot. En este se muestra en el eje horizontal los tiempos de disparo y en el eje vertical se grafica el índice de la neurona que emitió dicho disparo. En este experimeto tenemos solo una neurona pero bajo dos experimentos distintos así que pues al eje vertical se le puede asignar el índice 1 (para el experimento de poca luz) y 2 (para el de luz alta)\n",
        "\n",
        "Haga el raster plot para las dos condiciones experimentales.\n",
        "\n",
        "**Q** Encuentra alguna diferencia cualitativa entre el disparo de la neurona en ambas condiciones experimentales?"
      ]
    },
    {
      "cell_type": "code",
      "execution_count": null,
      "id": "0e48e27b",
      "metadata": {
        "id": "0e48e27b"
      },
      "outputs": [],
      "source": [
        "# TODO"
      ]
    },
    {
      "cell_type": "markdown",
      "id": "21a314a2",
      "metadata": {
        "id": "21a314a2"
      },
      "source": [
        "## Ejercicio 3\n",
        "\n",
        "Compute la distribución de los ISI para ambos experimentos. Esto le debe permitir determinar con más claridad las diferencias entre la estadística de disparo de la neurona en ambos experimentos.\n",
        "\n",
        "**Q** Describa las características de los dos histogramas. ¿Qué características de las distribuciones ISI son similares para las dos condiciones? ¿Qué características son diferentes?"
      ]
    },
    {
      "cell_type": "code",
      "execution_count": null,
      "id": "6b5cb14d",
      "metadata": {
        "id": "6b5cb14d"
      },
      "outputs": [],
      "source": [
        "# TODO"
      ]
    },
    {
      "cell_type": "markdown",
      "id": "4e9bdafd",
      "metadata": {
        "id": "4e9bdafd"
      },
      "source": [
        "## Ejercicio 4:\n",
        "\n",
        "Una forma común de determinar la variabilidad en el disparo de una neurona es através del coeficiente de variación del ISI definido como\n",
        "\n",
        "$$\n",
        "CV(ISI) = \\frac{\\sigma(ISI)}{\\mu(ISI)}\n",
        "$$\n",
        "\n",
        "Una regla general para interpretar el CV es el siguiente\n",
        "\n",
        "* $CV \\approx 0$, el disparo es regular -Disparo Tónico-\n",
        "* $CV \\approx 1$, el disparo es irregular, parece completamente aleatorio -Proceso de Poisson-\n",
        "* $CV > 1$, el disparo es de tipo Bursting, la neurona emite \"ráfagas\" de spikes en un periodo corto, y se queda sin disparar durante un periodo largo\n",
        "\n",
        "Calcule el CV para los dos experimentos\n",
        "\n",
        "**Q** Qué tipo de disparo hay en cada uno de los dos experimentos?"
      ]
    },
    {
      "cell_type": "code",
      "execution_count": null,
      "id": "dd0a01a4",
      "metadata": {
        "id": "dd0a01a4"
      },
      "outputs": [],
      "source": [
        "# TODO"
      ]
    },
    {
      "cell_type": "markdown",
      "id": "87a5a4e5",
      "metadata": {
        "id": "87a5a4e5"
      },
      "source": [
        "## Ejercicio 5\n",
        "\n",
        "Otro enfoque común para analizar datos de picos es discretizar el tiempo en intervalos de ancho fijo y contar el número de eventos -spikes- que ocurren en cada intervalo de tiempo. La secuencia de conteo de picos en todos los intervalos a veces se denomina proceso de incremento del tren de spikes. Cuando los intervalos de tiempo son lo suficientemente pequeños, digamos 1 ms, el proceso de incremento resultante es solo una secuencia de ceros y unos.\n",
        "\n",
        "Cuente los eventos que hay en cada intervalos de 50ms para los dos experimentos."
      ]
    },
    {
      "cell_type": "code",
      "execution_count": null,
      "id": "9c934863",
      "metadata": {
        "id": "9c934863"
      },
      "outputs": [],
      "source": [
        "# TODO"
      ]
    },
    {
      "cell_type": "markdown",
      "id": "f16a7ba5",
      "metadata": {
        "id": "f16a7ba5"
      },
      "source": [
        "Otra medida de variabilidad de disparo se puede calcular con el proceso de incremento usando el factor de Fano muestral (FF). Es fácil definir el factor de Fano: FF es la varianza muestral del proceso incremental dividida por la media muestral del proceso incremental.\n",
        "\n",
        "$$\n",
        "FF = Var(X)/\\mu(X)\n",
        "$$\n",
        "\n",
        "Al igual que con el CV, el Factor de Fano tiene interpretaciones similares\n",
        "\n",
        "* $FF \\approx 0$, el disparo es regular -Disparo Tónico-\n",
        "* $FF \\approx 1$, el disparo es irregular, parece completamente aleatorio -Proceso de Poisson-\n",
        "* $FF > 1$, el disparo es de tipo Bursting, la neurona emite \"ráfagas\" de spikes en un periodo corto, y se queda sin disparar durante un periodo largo\n",
        "\n",
        "**Q** Calucle el factor de Fano para el proceso de incremento calculado en ambas condiciones\n"
      ]
    },
    {
      "cell_type": "code",
      "execution_count": null,
      "id": "27399f0d",
      "metadata": {
        "id": "27399f0d"
      },
      "outputs": [],
      "source": [
        "# TODO"
      ]
    }
  ],
  "metadata": {
    "kernelspec": {
      "display_name": "Python 3 (ipykernel)",
      "language": "python",
      "name": "python3"
    },
    "language_info": {
      "codemirror_mode": {
        "name": "ipython",
        "version": 3
      },
      "file_extension": ".py",
      "mimetype": "text/x-python",
      "name": "python",
      "nbconvert_exporter": "python",
      "pygments_lexer": "ipython3",
      "version": "3.10.12"
    },
    "colab": {
      "provenance": [],
      "include_colab_link": true
    }
  },
  "nbformat": 4,
  "nbformat_minor": 5
}